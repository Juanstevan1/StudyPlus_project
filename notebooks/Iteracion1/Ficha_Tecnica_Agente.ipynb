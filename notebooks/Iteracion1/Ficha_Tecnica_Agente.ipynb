{
 "cells": [
  {
   "cell_type": "markdown",
   "metadata": {},
   "source": [
    "# Ficha Técnica del Agente\n",
    "\n",
    "---\n",
    "\n",
    "Este cuaderno proporciona la ficha técnica del agente diseñado para mejorar la productividad de los estudiantes mediante la organización de horarios, recordatorios de estudio y la generación de bloques de estudio a partir de notas digitalizadas.\n"
   ]
  },
  {
   "cell_type": "markdown",
   "metadata": {},
   "source": [
    "## Objetivo del Agente\n",
    "\n",
    "---\n",
    "\n",
    "El objetivo del agente es proporcionar un asistente virtual para estudiantes que ayuda a mejorar su productividad mediante la organización eficiente de su tiempo de estudio, recordatorios personalizados y la creación de bloques de estudio a partir de sus notas digitalizadas.\n"
   ]
  },
  {
   "cell_type": "markdown",
   "metadata": {},
   "source": [
    "## Descripción del Agente\n",
    "\n",
    "---\n",
    "\n",
    "El agente es una herramienta de software diseñada para interactuar con los estudiantes y ayudarlos a gestionar su tiempo de estudio de manera más efectiva. Utiliza técnicas de inteligencia artificial para analizar las notas digitalizadas del estudiante, generar horarios de estudio personalizados y enviar recordatorios para asegurar que el estudiante se mantenga al día con su plan de estudios. Además, el agente es capaz de adaptarse a las necesidades cambiantes del estudiante, ofreciendo recomendaciones y ajustes basados en su rendimiento y progreso."
   ]
  },
  {
   "cell_type": "markdown",
   "metadata": {},
   "source": [
    "## Servicios del Agente\n",
    "\n",
    "---\n",
    "\n",
    "1. **Organización de Horarios:** El agente ayuda a los estudiantes a planificar su tiempo de estudio, creando horarios que optimizan su productividad y aseguran una cobertura equilibrada de todas las materias.\n",
    "2. **Recordatorios de Estudio:** Envía notificaciones para recordar al estudiante sobre sus horarios de estudio, exámenes próximos y tareas pendientes.\n",
    "3. **Generación de Bloques de Estudio:** Analiza las notas digitalizadas del estudiante y crea bloques de estudio eficientes que cubren todos los temas necesarios.\n",
    "4. **Funcionalidades Futuras:** Proximamente agregar*"
   ]
  },
  {
   "cell_type": "code",
   "execution_count": null,
   "metadata": {
    "vscode": {
     "languageId": "plaintext"
    }
   },
   "outputs": [],
   "source": []
  },
  {
   "cell_type": "markdown",
   "metadata": {},
   "source": []
  }
 ],
 "metadata": {
  "language_info": {
   "name": "python"
  }
 },
 "nbformat": 4,
 "nbformat_minor": 2
}

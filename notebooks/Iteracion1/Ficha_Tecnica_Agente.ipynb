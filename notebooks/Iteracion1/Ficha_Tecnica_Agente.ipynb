{
 "cells": [
  {
   "cell_type": "markdown",
   "metadata": {},
   "source": [
    "# Ficha Técnica del Agente\n",
    "\n",
    "---\n",
    "\n",
    "Este cuaderno proporciona la ficha técnica del agente diseñado para mejorar la productividad de los estudiantes mediante la organización de horarios, recordatorios de estudio y la generación de bloques de estudio a partir de notas digitalizadas.\n"
   ]
  },
  {
   "cell_type": "markdown",
   "metadata": {},
   "source": [
    "## Objetivo del Agente\n",
    "\n",
    "---\n",
    "\n",
    "El objetivo del agente es proporcionar un asistente virtual para estudiantes que ayuda a mejorar su productividad mediante la organización eficiente de su tiempo de estudio, recordatorios personalizados y la creación de bloques de estudio a partir de sus notas digitalizadas.\n"
   ]
  },
  {
   "cell_type": "markdown",
   "metadata": {},
   "source": [
    "## Descripción del Agente\n",
    "\n",
    "---\n",
    "\n",
    "El agente es una herramienta de software diseñada para interactuar con los estudiantes y ayudarlos a gestionar su tiempo de estudio de manera más efectiva. Utiliza técnicas de inteligencia artificial para analizar las notas digitalizadas del estudiante, generar horarios de estudio personalizados y enviar recordatorios para asegurar que el estudiante se mantenga al día con su plan de estudios. Además, el agente es capaz de adaptarse a las necesidades cambiantes del estudiante, ofreciendo recomendaciones y ajustes basados en su rendimiento y progreso."
   ]
  },
  {
   "cell_type": "markdown",
   "metadata": {},
   "source": [
    "## Servicios del Agente\n",
    "\n",
    "---\n",
    "\n",
    "<br>\n",
    "\n",
    "| **Servicio**                     | **Descripción**                                                                                                                                               |\n",
    "|----------------------------------|-----------------------------------------------------------------------------------------------------------------------------------------------------------------|\n",
    "| Organización de Horarios         | El agente ayuda a los estudiantes a planificar su tiempo de estudio, creando horarios que optimizan su productividad y aseguran una cobertura equilibrada de todas las materias. |\n",
    "| Recordatorios de Estudio         | Envía notificaciones para recordar al estudiante sobre sus horarios de estudio, exámenes próximos y tareas pendientes.                                          |\n",
    "| Generación de Bloques de Estudio | Analiza las notas digitalizadas del estudiante y crea bloques de estudio eficientes que cubren todos los temas necesarios.                                     |\n",
    "| Funcionalidades Futuras          | Integración con aplicaciones de notas, alertas personalizadas basadas en el rendimiento del estudiante, y análisis avanzados de datos de estudio para proporcionar recomendaciones personalizadas. |\n"
   ]
  },
  {
   "cell_type": "markdown",
   "metadata": {},
   "source": [
    "## Modelo REAS del Agente\n",
    "\n",
    "### Roles\n",
    "\n",
    "| **Rol**   | **Descripción**                         |\n",
    "|-----------|-----------------------------------------|\n",
    "| Agente    | Asistente virtual de estudio.           |\n",
    "| Usuario   | Estudiante que interactúa con el agente.|\n",
    "\n",
    "### Entornos\n",
    "\n",
    "| **Entorno**                | **Descripción**                                                                                                             |\n",
    "|----------------------------|-----------------------------------------------------------------------------------------------------------------------------|\n",
    "| Entorno de Estudio         | Contexto en el que el estudiante realiza sus actividades académicas. Puede ser estático (como una biblioteca) o dinámico (diferentes lugares y horarios de estudio). |\n",
    "| Entorno de Planificación   | Contexto en el que el estudiante organiza su tiempo y tareas.                                                               |\n",
    "\n",
    "### Acciones\n",
    "\n",
    "| **Acción**                            | **Descripción**                                                                                                         |\n",
    "|---------------------------------------|-------------------------------------------------------------------------------------------------------------------------|\n",
    "| Recibir y Procesar Notas Digitalizadas| El agente analiza las notas digitalizadas proporcionadas por el estudiante.                                             |\n",
    "| Generar y Ajustar Horarios de Estudio | El agente crea y ajusta horarios de estudio personalizados.                                                             |\n",
    "| Enviar Recordatorios                  | El agente envía notificaciones y recordatorios basados en los horarios de estudio y fechas importantes.                 |\n",
    "\n",
    "### Servicios\n",
    "\n",
    "| **Servicio**                     | **Descripción**                                                                                                         |\n",
    "|----------------------------------|-------------------------------------------------------------------------------------------------------------------------|\n",
    "| Organización de Horarios         | Ayuda a planificar el tiempo de estudio del estudiante.                                                                 |\n",
    "| Recordatorios de Estudio         | Notifica al estudiante sobre sus horarios de estudio y fechas importantes.                                              |\n",
    "| Generación de Bloques de Estudio | Crea bloques de estudio eficientes basados en las notas digitalizadas del estudiante.                                    |\n",
    "\n",
    "### Detalles Adicionales del Entorno\n",
    "\n",
    "| **Tipo de Entorno**               | **Descripción**                                                                                                         |\n",
    "|----------------------------------|-------------------------------------------------------------------------------------------------------------------------|\n",
    "| Estático                          | El entorno de estudio no cambia (ejemplo: una biblioteca).                                                             |\n",
    "| Dinámico                          | El entorno de estudio cambia según diferentes lugares y horarios.                                                      |\n",
    "| Discreto                          | Las acciones y eventos ocurren en intervalos de tiempo separados y específicos.                                         |\n",
    "| Continuo                          | Las acciones y eventos ocurren en un flujo constante sin intervalos definidos.                                          |\n"
   ]
  }
 ],
 "metadata": {
  "language_info": {
   "name": "python"
  }
 },
 "nbformat": 4,
 "nbformat_minor": 2
}
